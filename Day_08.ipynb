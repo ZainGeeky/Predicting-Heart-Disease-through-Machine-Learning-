{
  "nbformat": 4,
  "nbformat_minor": 0,
  "metadata": {
    "colab": {
      "provenance": [],
      "authorship_tag": "ABX9TyN8Xww993xuit5AAvifzEN8",
      "include_colab_link": true
    },
    "kernelspec": {
      "name": "python3",
      "display_name": "Python 3"
    },
    "language_info": {
      "name": "python"
    }
  },
  "cells": [
    {
      "cell_type": "markdown",
      "metadata": {
        "id": "view-in-github",
        "colab_type": "text"
      },
      "source": [
        "<a href=\"https://colab.research.google.com/github/ZainGeeky/Predicting-Heart-Disease-through-Machine-Learning-/blob/main/Day_08.ipynb\" target=\"_parent\"><img src=\"https://colab.research.google.com/assets/colab-badge.svg\" alt=\"Open In Colab\"/></a>"
      ]
    },
    {
      "cell_type": "code",
      "execution_count": 2,
      "metadata": {
        "id": "mAufucsx4Ilb"
      },
      "outputs": [],
      "source": [
        "from pandas.core.window.expanding import ExpandingGroupby\n",
        "      # from matplotlib.projections.polar import ThetaAxis\n",
        "      # n = int(input(\"Enter no of Patients who's Status is to be Determined :- \"))\n",
        "      # def Prediction() :\n",
        "      #   age = int(input(\"Age of the Patient :- \"))\n",
        "      #   sex = int(input(\"Sex of the Patient (0 - female & 1 - male) :- \"))\n",
        "      #   cp = int(input(\"Chest Pain Type :- \"))\n",
        "      #   trestbps = int(input(\"Resting Blood Pressure :- \"))\n",
        "      #   chol = int(input(\"Serum Cholestrol :- \"))\n",
        "      #   fbs = int(input(\"Fasting Blood Sugar :- \"))\n",
        "      #   restecg = int(input(\"Resting ElectroCardiographic Result :- \"))\n",
        "      #   thalach = int(input(\"Maximum Heart Rate Achieved :- \"))\n",
        "      #   exang = int(input(\"Exercise-include angina (1 - True, 0 - False) :- \"))\n",
        "      #   oldpeak = float(input(\"ST Depression induced by Exercise relative to Rest :- \"))\n",
        "      #   slope = int(input(\"Slope of Peak Exercise ST segment :- \"))\n",
        "      #   ca = int(input(\"No. of Major Vessels (0-3) :- \"))\n",
        "      #   thal = int(input(\"Thalasemia Indicator :- \"))\n",
        "      #   new_patient = np.array([age, sex, cp, trestbps, chol, fbs, restecg, thalach, exang, oldpeak, slope, ca, thal])\n",
        "      #   new_patient = new_patient.reshape(1,-1) #converting to 2D array\n",
        "      #   if clf_lr.predict(new_patient) == 0 :\n",
        "      #     return \"The Patient with the above provided Vitals Dies!!!\"\n",
        "      #   else :\n",
        "      #     return \"The Patient with the above provided vitals Lives!!!\"\n",
        "      # for i in range(n) :\n",
        "      #   print(Prediction())"
      ]
    }
  ]
}